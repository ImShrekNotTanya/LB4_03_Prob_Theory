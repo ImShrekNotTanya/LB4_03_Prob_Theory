{
  "nbformat": 4,
  "nbformat_minor": 0,
  "metadata": {
    "colab": {
      "provenance": [],
      "authorship_tag": "ABX9TyNPt+mhkYVKk0GuvjUXPekt",
      "include_colab_link": true
    },
    "kernelspec": {
      "name": "python3",
      "display_name": "Python 3"
    },
    "language_info": {
      "name": "python"
    }
  },
  "cells": [
    {
      "cell_type": "markdown",
      "metadata": {
        "id": "view-in-github",
        "colab_type": "text"
      },
      "source": [
        "<a href=\"https://colab.research.google.com/github/ImShrekNotTanya/LB4_03_Prob_Theory/blob/master/LB4_03_Vakulenko_Adabeli.ipynb\" target=\"_parent\"><img src=\"https://colab.research.google.com/assets/colab-badge.svg\" alt=\"Open In Colab\"/></a>"
      ]
    },
    {
      "cell_type": "markdown",
      "source": [
        "**Задание 1:** Все примеры кода из статьи \"Generating random number list in Python\"\n",
        "\n"
      ],
      "metadata": {
        "id": "GojdCB3dUhDu"
      }
    },
    {
      "cell_type": "markdown",
      "source": [
        "Method 1: Using the random.randint()"
      ],
      "metadata": {
        "id": "PiXNlt4EUZXu"
      }
    },
    {
      "cell_type": "code",
      "execution_count": null,
      "metadata": {
        "colab": {
          "base_uri": "https://localhost:8080/"
        },
        "id": "vl89Qut9UR8J",
        "outputId": "6e76aa35-ec1c-4406-928b-e9e4f204a279"
      },
      "outputs": [
        {
          "output_type": "stream",
          "name": "stdout",
          "text": [
            "[4, 3, 8, 8, 9, 7, 8, 9, 9, 3]\n"
          ]
        }
      ],
      "source": [
        "import random\n",
        "\n",
        "rand_list=[]\n",
        "n=10\n",
        "for i in range(n):\n",
        "    rand_list.append(random.randint(3,9))\n",
        "print(rand_list)"
      ]
    },
    {
      "cell_type": "markdown",
      "source": [
        "Method 2: Using random.sample()"
      ],
      "metadata": {
        "id": "wpqBWkOXVADp"
      }
    },
    {
      "cell_type": "code",
      "source": [
        "import random\n",
        "\n",
        "res = random.sample(range(1, 50), 7)\n",
        "print (\"Random number list is : \" +  str(res))"
      ],
      "metadata": {
        "colab": {
          "base_uri": "https://localhost:8080/"
        },
        "id": "G1tYfrEEVAVG",
        "outputId": "c3cc2366-1f88-48ed-c354-22464bdb0c31"
      },
      "execution_count": null,
      "outputs": [
        {
          "output_type": "stream",
          "name": "stdout",
          "text": [
            "Random number list is : [31, 34, 28, 49, 26, 10, 29]\n"
          ]
        }
      ]
    },
    {
      "cell_type": "markdown",
      "source": [
        "Method 3: Using list comprehension + randrange()"
      ],
      "metadata": {
        "id": "mo9IRcnwWjOn"
      }
    },
    {
      "cell_type": "code",
      "source": [
        "import random\n",
        "\n",
        "res = [random.randrange(1, 50, 1) for i in range(7)]\n",
        "print (\"Random number list is : \" +  str(res))"
      ],
      "metadata": {
        "colab": {
          "base_uri": "https://localhost:8080/"
        },
        "id": "Xt7kIPavWjn1",
        "outputId": "f19e53e5-03ff-48c3-ad6c-0f8a283522d6"
      },
      "execution_count": null,
      "outputs": [
        {
          "output_type": "stream",
          "name": "stdout",
          "text": [
            "Random number list is : [33, 11, 8, 45, 4, 36, 21]\n"
          ]
        }
      ]
    },
    {
      "cell_type": "markdown",
      "source": [
        "Method 4: using loop + randint()"
      ],
      "metadata": {
        "id": "TJ8-psMbXQRa"
      }
    },
    {
      "cell_type": "code",
      "source": [
        "import random\n",
        "lis = []\n",
        "for _ in range(10):\n",
        "    lis.append(random.randint(0, 51))\n",
        "print(lis)"
      ],
      "metadata": {
        "id": "Q8QR0KWsXQlC"
      },
      "execution_count": null,
      "outputs": []
    },
    {
      "cell_type": "markdown",
      "source": [
        "**Random Number Using Numpy**"
      ],
      "metadata": {
        "id": "Gez2SiHaacmX"
      }
    },
    {
      "cell_type": "markdown",
      "source": [
        "Method 1: Generating a list of random integers using numpy.random.randint function"
      ],
      "metadata": {
        "id": "x8FF94l5aj0h"
      }
    },
    {
      "cell_type": "code",
      "source": [
        "import numpy as np\n",
        "\n",
        "print(list(np.random.randint(low = 3,high=8,size=10)))\n",
        "print(list(np.random.randint(low = 3,size=5)))"
      ],
      "metadata": {
        "colab": {
          "base_uri": "https://localhost:8080/"
        },
        "id": "E1SgnY5cakCX",
        "outputId": "b3e74dbc-e318-4379-f669-db749dc63a42"
      },
      "execution_count": null,
      "outputs": [
        {
          "output_type": "stream",
          "name": "stdout",
          "text": [
            "[6, 4, 6, 4, 7, 6, 4, 3, 3, 3]\n",
            "[1, 0, 1, 0, 0]\n"
          ]
        }
      ]
    },
    {
      "cell_type": "markdown",
      "source": [
        "Method 2. Generating a list of random floating values using numpy.random.random_sample function"
      ],
      "metadata": {
        "id": "198iwOqmbEee"
      }
    },
    {
      "cell_type": "code",
      "source": [
        "import numpy as np\n",
        "\n",
        "print(np.random.random_sample(size = 4))\n",
        "\n",
        "print(np.random.random_sample(size = (4,4)))"
      ],
      "metadata": {
        "colab": {
          "base_uri": "https://localhost:8080/"
        },
        "id": "Ook96yhibFlU",
        "outputId": "fe89e134-410b-4d19-f817-76af24024664"
      },
      "execution_count": null,
      "outputs": [
        {
          "output_type": "stream",
          "name": "stdout",
          "text": [
            "[0.31436562 0.64688359 0.11209488 0.8204064 ]\n",
            "[[0.4339882  0.38768136 0.51866597 0.44536174]\n",
            " [0.08174387 0.54106231 0.30389867 0.34844988]\n",
            " [0.52264771 0.65474218 0.94040131 0.17612803]\n",
            " [0.04846221 0.44723945 0.82398934 0.28542303]]\n"
          ]
        }
      ]
    }
  ]
}
