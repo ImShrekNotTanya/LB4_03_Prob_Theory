{
  "nbformat": 4,
  "nbformat_minor": 0,
  "metadata": {
    "colab": {
      "provenance": [],
      "authorship_tag": "ABX9TyMrfPiL0y6gcfX/4skD54kV",
      "include_colab_link": true
    },
    "kernelspec": {
      "name": "python3",
      "display_name": "Python 3"
    },
    "language_info": {
      "name": "python"
    }
  },
  "cells": [
    {
      "cell_type": "markdown",
      "metadata": {
        "id": "view-in-github",
        "colab_type": "text"
      },
      "source": [
        "<a href=\"https://colab.research.google.com/github/ImShrekNotTanya/LB4_03_Prob_Theory/blob/master/LB4_03_Vakulenko_Adabeli_%D0%97%D0%B0%D0%B4%D0%B0%D0%BD%D0%B8%D0%B52.ipynb\" target=\"_parent\"><img src=\"https://colab.research.google.com/assets/colab-badge.svg\" alt=\"Open In Colab\"/></a>"
      ]
    },
    {
      "cell_type": "markdown",
      "source": [
        "**Задание 2:** Реализовать все методы из статьи для получения бросков кубика (100, 1000, 10000, 1000000) и построить гистограмму для каждого из бросков"
      ],
      "metadata": {
        "id": "9csFrl04gOTP"
      }
    },
    {
      "cell_type": "code",
      "execution_count": 69,
      "metadata": {
        "colab": {
          "base_uri": "https://localhost:8080/",
          "height": 581
        },
        "id": "ndQWZwRVe_vZ",
        "outputId": "d98188a5-7023-4773-fd91-ff1eaf89ba69"
      },
      "outputs": [
        {
          "output_type": "stream",
          "name": "stdout",
          "text": [
            "Введите число бросков для кубика (100, 1000, 10000, 1000000): \n",
            "100\n",
            "Ваши броски:    Количество выпаданий  Частота  Вероятность\n",
            "1                     1       11         0.11\n",
            "2                     2       15         0.15\n",
            "3                     3       16         0.16\n",
            "4                     4       13         0.13\n",
            "5                     5       24         0.24\n",
            "6                     6       21         0.21\n"
          ]
        },
        {
          "output_type": "display_data",
          "data": {
            "text/plain": [
              "<Figure size 640x480 with 1 Axes>"
            ],
            "image/png": "[encoded data removed]"
          },
          "metadata": {}
        }
      ],
      "source": [
        "import random\n",
        "import pandas as pd\n",
        "import matplotlib.pyplot as plt\n",
        "\n",
        "# Первый метод\n",
        "def kubik(n: int) -> list:\n",
        "    \"\"\"\n",
        "    :param n: Количество подбрасываний\n",
        "    :return:  Список случайных подбрасываний кубика\n",
        "    \"\"\"\n",
        "\n",
        "    data = []\n",
        "\n",
        "    for i in range(n):\n",
        "      data.append(random.randint(1,6))\n",
        "    return data\n",
        "\n",
        "# Второй метод\n",
        "def kubik_2(n: int) -> list:\n",
        "    \"\"\"\n",
        "    :param n: Количество подбрасываний\n",
        "    :return:  Список случайных подбрасываний кубика\n",
        "    \"\"\"\n",
        "\n",
        "    data = random.choices(range(1, 7), k=n)  # Получаем n случайных чисел от 1 до 6 с возможностью повторений\n",
        "    return data\n",
        "\n",
        "# Третий метод\n",
        "def kubik_3(n: int) -> list:\n",
        "    \"\"\"\n",
        "    :param n: Количество подбрасываний\n",
        "    :return:  Список случайных подбрасываний кубика\n",
        "    \"\"\"\n",
        "\n",
        "    data = [random.randrange(1, 7) for _ in range(n)]  # Генерируем n случайных чисел от 1 до 6\n",
        "    return data\n",
        "\n",
        "# Четвертый метод\n",
        "def kubik_4(n: int) -> list:\n",
        "    \"\"\"\n",
        "    :param n: Количество подбрасываний\n",
        "    :return:  Список случайных подбрасываний кубика\n",
        "    \"\"\"\n",
        "\n",
        "    data = []\n",
        "    for _ in range(n):  # Используем цикл для n подбрасываний\n",
        "        data.append(random.randint(1, 6))  # Генерируем случайное число от 1 до 6 и добавляем в список\n",
        "    return data\n",
        "\n",
        "def count_rate(kub_data: list):\n",
        "    \"\"\"\n",
        "    Возвращает частоту выпадания значений кубика,\n",
        "    согласно полученным данным\n",
        "    :param kub_data: данные эксперимента\n",
        "    :return:\n",
        "    \"\"\"\n",
        "    kub_rate = {}\n",
        "    for i in kub_data:\n",
        "        if i in kub_rate:\n",
        "            continue\n",
        "        else:\n",
        "            kub_rate[i] = kub_data.count(i)\n",
        "    for i in range(1, 7):\n",
        "        if i not in kub_rate:\n",
        "            kub_rate[i] = 0\n",
        "    return kub_rate\n",
        "\n",
        "def sort_rate(counted_rate: dict):\n",
        "    \"\"\"\n",
        "    Возвращает отсортированную частоту по ключу\n",
        "    :param counted_rate: Наша неотсортированная частота\n",
        "    :return:\n",
        "    \"\"\"\n",
        "    sorted_rate = {}\n",
        "    for key in sorted(counted_rate.keys()):\n",
        "        sorted_rate[key] = counted_rate[key]\n",
        "    return sorted_rate\n",
        "\n",
        "def crate_dataframe(sorted_date: dict):\n",
        "    \"\"\"\n",
        "    Создание и преобразование данных в Pandas dataframe\n",
        "    :param sorted_date: dict\n",
        "    :return: pd.Dataframe\n",
        "    \"\"\"\n",
        "    df = pd.DataFrame(sorted_date, index=[0])\n",
        "    df = df.T\n",
        "    df = df.rename(columns={0: 'Частота'})\n",
        "    df.insert(0, 'Количество выпаданий', range(1, 1 + len(df)))\n",
        "    return df\n",
        "\n",
        "\n",
        "def probability_solving(dataframe: pd.DataFrame):\n",
        "    \"\"\"\n",
        "    Вычисление вероятности полученных результатов\n",
        "    :param dataframe:\n",
        "    :return:\n",
        "    \"\"\"\n",
        "    sum_rate = dataframe['Частота'].sum()\n",
        "    probability = []\n",
        "    for i in dataframe['Частота']:\n",
        "        probability.append(i / sum_rate)\n",
        "    dataframe['Вероятность'] = probability\n",
        "    return dataframe\n",
        "\n",
        "print(\"Введите число бросков для кубика (100, 1000, 10000, 1000000): \")\n",
        "# print(f'Ваши броски: {probability_solving(crate_dataframe(sort_rate(count_rate(kubik(n = int(input()))))))}')\n",
        "# print(f'Ваши броски: {probability_solving(crate_dataframe(sort_rate(count_rate(kubik_2(n = int(input()))))))}')\n",
        "# print(f'Ваши броски: {probability_solving(crate_dataframe(sort_rate(count_rate(kubik_3(n = int(input()))))))}')\n",
        "print(f'Ваши броски: {probability_solving(crate_dataframe(sort_rate(count_rate(kubik_4(n = int(input()))))))}')\n",
        "# Построение гистограммы\n",
        "# proba1 = probability_solving(crate_dataframe(sort_rate(count_rate(kubik(n)))))\n",
        "# a = proba1['Вероятность'].plot(kind='bar', legend=True, cmap='coolwarm')\n",
        "# plt.show()\n",
        "\n",
        "# proba2 = probability_solving(crate_dataframe(sort_rate(count_rate(kubik_2(n)))))\n",
        "# a = proba2['Вероятность'].plot(kind='bar', legend=True, cmap='coolwarm')\n",
        "# plt.show()\n",
        "\n",
        "# proba3 = probability_solving(crate_dataframe(sort_rate(count_rate(kubik_3(n)))))\n",
        "# a = proba3['Вероятность'].plot(kind='bar', legend=True, cmap='coolwarm')\n",
        "# plt.show()\n",
        "\n",
        "proba4 = probability_solving(crate_dataframe(sort_rate(count_rate(kubik_4(n)))))\n",
        "a = proba4['Вероятность'].plot(kind='bar', legend=True, cmap='coolwarm')\n",
        "plt.show()"
      ]
    }
  ]
}